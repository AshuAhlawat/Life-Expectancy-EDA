(pd.read_csv("./life_expectancy.csv")).head()
